{
 "cells": [
  {
   "cell_type": "code",
   "execution_count": 1,
   "metadata": {},
   "outputs": [],
   "source": [
    "import os\n",
    "import numpy as np\n",
    "import matplotlib.pyplot as plt\n",
    "import glob as gb\n",
    "import pandas as pd\n",
    "import seaborn as sns\n",
    "\n",
    "import tensorflow as tf\n",
    "from keras.preprocessing.image import ImageDataGenerator\n",
    "from tensorflow.keras import layers\n",
    "from tensorflow.keras.layers import Input\n",
    "from tensorflow import keras\n",
    "from keras.models import Sequential\n",
    "from keras.layers.convolutional import Conv2D\n",
    "from keras.callbacks import ReduceLROnPlateau\n",
    "import json\n",
    "import cv2\n",
    "import seaborn as sns\n",
    "from scipy.stats import norm\n",
    "import statistics\n",
    "import random\n",
    "import shutil\n",
    "%matplotlib inline"
   ]
  },
  {
   "cell_type": "code",
   "execution_count": 2,
   "metadata": {},
   "outputs": [],
   "source": [
    "train_dir = './train3/'"
   ]
  },
  {
   "cell_type": "code",
   "execution_count": 3,
   "metadata": {},
   "outputs": [
    {
     "data": {
      "text/plain": [
       "'./train3/'"
      ]
     },
     "execution_count": 3,
     "metadata": {},
     "output_type": "execute_result"
    }
   ],
   "source": [
    "train_dir"
   ]
  },
  {
   "cell_type": "code",
   "execution_count": 4,
   "metadata": {},
   "outputs": [
    {
     "name": "stdout",
     "output_type": "stream",
     "text": [
      "Bacterial_spot : 2826\n",
      "Early_blight : 2452\n",
      "healthy : 3048\n",
      "Septoria_leaf_spot : 2881\n",
      "Target_Spot : 1827\n",
      "Tomato_Yellow_Leaf_Curl_Virus : 2036\n"
     ]
    }
   ],
   "source": [
    "trainDir_list = []\n",
    "for folder in os.listdir(train_dir):\n",
    "  files = gb.glob(train_dir+folder+'/')\n",
    "  for file in files:\n",
    "    trainDir_list.append(str(file))\n",
    "    print(folder,':',len(os.listdir(str(file))))"
   ]
  },
  {
   "cell_type": "code",
   "execution_count": 5,
   "metadata": {},
   "outputs": [
    {
     "name": "stdout",
     "output_type": "stream",
     "text": [
      "['Bacterial_spot', 'Early_blight', 'Septoria_leaf_spot', 'Target_Spot', 'Tomato_Yellow_Leaf_Curl_Virus', 'healthy']\n"
     ]
    }
   ],
   "source": [
    "class_names = sorted(os.listdir(train_dir))\n",
    "print(class_names)"
   ]
  },
  {
   "cell_type": "code",
   "execution_count": 6,
   "metadata": {},
   "outputs": [
    {
     "name": "stdout",
     "output_type": "stream",
     "text": [
      "6\n"
     ]
    }
   ],
   "source": [
    "n_classes = len(class_names)\n",
    "print(n_classes)"
   ]
  },
  {
   "cell_type": "code",
   "execution_count": 7,
   "metadata": {},
   "outputs": [
    {
     "name": "stdout",
     "output_type": "stream",
     "text": [
      "[2826, 2452, 2881, 1827, 2036, 3048]\n",
      "max is  3048 \n",
      "min is  1827\n"
     ]
    },
    {
     "data": {
      "image/png": "[encoded data removed]",
      "text/plain": [
       "<Figure size 640x480 with 1 Axes>"
      ]
     },
     "metadata": {},
     "output_type": "display_data"
    }
   ],
   "source": [
    "count=[]\n",
    "for number in class_names :\n",
    "    count.append(len(os.listdir(train_dir+number)))\n",
    "print(count)\n",
    "\n",
    "df = pd.DataFrame({'class':class_names, 'number':count})\n",
    "g=sns.barplot(data=df,x='number', y='class')\n",
    "\n",
    "print('max is ',max(count),'\\nmin is ',min(count))\n",
    "# g.set_xticklabels(g.get_xticklabels(), rotation=90) "
   ]
  },
  {
   "cell_type": "code",
   "execution_count": null,
   "metadata": {},
   "outputs": [],
   "source": [
    "from pathlib import Path\n",
    "import imghdr\n",
    "\n",
    "data_dir = train_dir\n",
    "image_extensions = [\".png\", \".jpg\"]  # add there all your images file extensions\n",
    "\n",
    "img_type_accepted_by_tf = [\"bmp\", \"gif\", \"jpeg\", \"png\"]\n",
    "for filepath in Path(data_dir).rglob(\"*\"):\n",
    "    if filepath.suffix.lower() in image_extensions:\n",
    "        img_type = imghdr.what(filepath)\n",
    "        if img_type is None:\n",
    "            print(f\"{filepath} is not an image\")\n",
    "            os.remove(filepath)\n",
    "        elif img_type not in img_type_accepted_by_tf:\n",
    "            print(f\"{filepath} is a {img_type}, not accepted by TensorFlow\")\n",
    "            os.remove(filepath)"
   ]
  },
  {
   "cell_type": "code",
   "execution_count": null,
   "metadata": {},
   "outputs": [],
   "source": [
    "count=[]\n",
    "for number in class_names :\n",
    "    count.append(len(os.listdir(train_dir+number)))\n",
    "print(count)\n",
    "\n",
    "df = pd.DataFrame({'class':class_names, 'number':count})\n",
    "g=sns.barplot(data=df,x='number', y='class')\n",
    "\n",
    "print('max is ',max(count),'\\nmin is ',min(count))\n",
    "# g.set_xticklabels(g.get_xticklabels(), rotation=90) "
   ]
  },
  {
   "cell_type": "markdown",
   "metadata": {},
   "source": [
    "Add  Digit number eqaul Max of Digit number by\n",
    "\n",
    "1.   RandomFlip(horizontal)\n",
    "2.   RandomRotation(0.1) (10 degree)\n",
    "3.   RandomTranslation\n",
    "4.   RandomContrast\n",
    "\n"
   ]
  },
  {
   "cell_type": "code",
   "execution_count": null,
   "metadata": {},
   "outputs": [],
   "source": [
    "tf.get_logger().setLevel('ERROR')"
   ]
  },
  {
   "cell_type": "code",
   "execution_count": null,
   "metadata": {},
   "outputs": [],
   "source": [
    "data_augmentation = tf.keras.Sequential([\n",
    "  layers.experimental.preprocessing.Rescaling(1./255),\n",
    "  tf.keras.layers.RandomFlip('horizontal'),\n",
    "  tf.keras.layers.RandomRotation(0.15),\n",
    "  tf.keras.layers.RandomTranslation(height_factor=0.1, width_factor=0.1, fill_mode=\"wrap\"),\n",
    "  tf.keras.layers.RandomContrast(factor=0.2),\n",
    "])"
   ]
  },
  {
   "cell_type": "code",
   "execution_count": null,
   "metadata": {},
   "outputs": [],
   "source": [
    "for num in class_names :\n",
    "  k=0\n",
    "  path_img=train_dir+num\n",
    "\n",
    "  test_filenames = os.listdir(path_img)\n",
    "  df_test = pd.DataFrame({'filename': test_filenames})\n",
    "  test_generator  = ImageDataGenerator().flow_from_dataframe(df_test, \n",
    "                                                path_img, \n",
    "                                                x_col='filename',\n",
    "                                                class_mode=None,\n",
    "                                                target_size=(128, 128),\n",
    "                                                batch_size=32,\n",
    "                                                shuffle=False) \n",
    "\n",
    "  while len(os.listdir(path_img)) < max(count) :\n",
    "    x = test_generator.next()\n",
    "    x_augmented_image = data_augmentation(x)\n",
    "    for i,j in enumerate(x_augmented_image):\n",
    "      tf.keras.utils.save_img(path_img+'/datagen'+'-{}'.format(k)+'.jpg',j)\n",
    "      k+=1\n",
    "    \n",
    "    print(len(os.listdir(path_img)),'in',max(count),'(type',num,')')"
   ]
  },
  {
   "cell_type": "code",
   "execution_count": null,
   "metadata": {},
   "outputs": [],
   "source": [
    "count=[]\n",
    "for number in class_names :\n",
    "    count.append(len(os.listdir(train_dir+number)))\n",
    "print(count)\n",
    "\n",
    "df = pd.DataFrame({'class':class_names, 'number':count})\n",
    "g=sns.barplot(data=df,x='number', y='class')\n",
    "\n",
    "print('max is ',max(count),'\\nmin is ',min(count))"
   ]
  },
  {
   "cell_type": "code",
   "execution_count": null,
   "metadata": {},
   "outputs": [],
   "source": []
  }
 ],
 "metadata": {
  "kernelspec": {
   "display_name": "Python 3.9.0 ('tf')",
   "language": "python",
   "name": "python3"
  },
  "language_info": {
   "codemirror_mode": {
    "name": "ipython",
    "version": 3
   },
   "file_extension": ".py",
   "mimetype": "text/x-python",
   "name": "python",
   "nbconvert_exporter": "python",
   "pygments_lexer": "ipython3",
   "version": "3.9.0 (default, Nov 15 2020, 08:30:55) [MSC v.1916 64 bit (AMD64)]"
  },
  "orig_nbformat": 4,
  "vscode": {
   "interpreter": {
    "hash": "f8e96bd7e1966f4a2672907f6ee805ddda5c053dc1c198bb172a92da052c6df0"
   }
  }
 },
 "nbformat": 4,
 "nbformat_minor": 2
}
