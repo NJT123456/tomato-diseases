{
 "cells": [
  {
   "cell_type": "code",
   "execution_count": 1,
   "metadata": {},
   "outputs": [],
   "source": [
    "import os\n",
    "import numpy as np\n",
    "import matplotlib.pyplot as plt\n",
    "import glob as gb\n",
    "import pandas as pd\n",
    "import seaborn as sns\n",
    "\n",
    "import tensorflow as tf\n",
    "from keras.preprocessing.image import ImageDataGenerator\n",
    "from tensorflow.keras import layers\n",
    "from tensorflow.keras.layers import Input\n",
    "from tensorflow import keras\n",
    "from keras.models import Sequential\n",
    "from keras.layers.convolutional import Conv2D\n",
    "from keras.callbacks import ReduceLROnPlateau\n",
    "from tensorflow.keras import models\n",
    "from tensorflow.keras import optimizers\n",
    "import json\n",
    "import cv2\n",
    "import seaborn as sns\n",
    "from scipy.stats import norm\n",
    "import statistics\n",
    "import random\n",
    "import shutil\n",
    "import _utils as fn\n",
    "%matplotlib inline"
   ]
  },
  {
   "cell_type": "code",
   "execution_count": 2,
   "metadata": {},
   "outputs": [],
   "source": [
    "baseline = models.load_model('baseline_model2.h5')\n",
    "vgg = models.load_model('VGG16_model.h5')\n",
    "resnet = models.load_model('resnet_model.h5')"
   ]
  },
  {
   "cell_type": "code",
   "execution_count": 3,
   "metadata": {},
   "outputs": [],
   "source": [
    "train_dir = './train4/'\n",
    "valid_dir = './valid4/'"
   ]
  },
  {
   "cell_type": "code",
   "execution_count": 4,
   "metadata": {},
   "outputs": [
    {
     "name": "stdout",
     "output_type": "stream",
     "text": [
      "Found 14694 images belonging to 6 classes.\n",
      "Found 3672 images belonging to 6 classes.\n",
      "Found 4870 images belonging to 6 classes.\n"
     ]
    }
   ],
   "source": [
    "batch_size = 32\n",
    "img_height = 100\n",
    "img_width = 100\n",
    "\n",
    "train_datagen = ImageDataGenerator(rescale=1./255,\n",
    "    shear_range=0.2,\n",
    "    zoom_range=0.2,\n",
    "    horizontal_flip=True,\n",
    "    validation_split=0.2)\n",
    "test_datagen = ImageDataGenerator(rescale=1./255)\n",
    "\n",
    "train_ds = train_datagen.flow_from_directory(\n",
    "    train_dir,\n",
    "    target_size=(img_height, img_width),\n",
    "    batch_size=batch_size,\n",
    "    class_mode='sparse',\n",
    "    shuffle = True,\n",
    "    color_mode=\"rgb\",\n",
    "    seed=42,\n",
    "    subset='training')\n",
    "\n",
    "validation_ds = train_datagen.flow_from_directory(\n",
    "    train_dir,\n",
    "    target_size=(img_height, img_width),\n",
    "    batch_size=batch_size,\n",
    "    class_mode='sparse',\n",
    "    shuffle = True,\n",
    "    color_mode=\"rgb\",\n",
    "    seed=42,\n",
    "    subset='validation')\n",
    "\n",
    "test_ds = test_datagen.flow_from_directory(\n",
    "    valid_dir,\n",
    "    target_size=(img_height, img_width),\n",
    "    batch_size=batch_size,\n",
    "    shuffle = False,\n",
    "    color_mode=\"rgb\",\n",
    "    seed=42,\n",
    "    class_mode='sparse')"
   ]
  },
  {
   "cell_type": "code",
   "execution_count": 5,
   "metadata": {},
   "outputs": [],
   "source": [
    "dict_class = train_ds.class_indices"
   ]
  },
  {
   "cell_type": "code",
   "execution_count": 6,
   "metadata": {},
   "outputs": [],
   "source": [
    "from PIL import ImageFile\n",
    "ImageFile.LOAD_TRUNCATED_IMAGES = True"
   ]
  },
  {
   "cell_type": "code",
   "execution_count": 7,
   "metadata": {},
   "outputs": [],
   "source": [
    "from sklearn.metrics import top_k_accuracy_score\n",
    "def TopKAccuracy(val_ds, test_ds, model):\n",
    "    preds=model.predict(test_ds)  \n",
    "    preds_val=model.predict(val_ds) \n",
    "    test_true = test_ds.labels\n",
    "    val_true = val_ds.labels\n",
    "    print('Top-1 (val):',top_k_accuracy_score(val_true, preds_val, k=1))\n",
    "    print('Top-1 (test):',top_k_accuracy_score(test_true, preds, k=1))\n",
    "    print('Top-5 (val):',top_k_accuracy_score(val_true, preds_val, k=5))\n",
    "    print('Top-5 (test):',top_k_accuracy_score(test_true, preds, k=5))"
   ]
  },
  {
   "cell_type": "code",
   "execution_count": 8,
   "metadata": {},
   "outputs": [
    {
     "name": "stdout",
     "output_type": "stream",
     "text": [
      "153/153 [==============================] - 14s 80ms/step\n",
      "115/115 [==============================] - 18s 154ms/step\n",
      "Top-1 (val): 0.17892156862745098\n",
      "Top-1 (test): 0.7876796714579055\n",
      "Top-5 (val): 0.8374183006535948\n",
      "Top-5 (test): 0.999794661190965\n"
     ]
    }
   ],
   "source": [
    "TopKAccuracy(validation_ds, test_ds, baseline)"
   ]
  },
  {
   "cell_type": "code",
   "execution_count": 10,
   "metadata": {},
   "outputs": [
    {
     "name": "stdout",
     "output_type": "stream",
     "text": [
      "153/153 [==============================] - 18s 118ms/step\n",
      "115/115 [==============================] - 20s 172ms/step\n",
      "Top-1 (val): 0.16775599128540306\n",
      "Top-1 (test): 0.946817248459959\n",
      "Top-5 (val): 0.8273420479302832\n",
      "Top-5 (test): 0.9995893223819302\n"
     ]
    }
   ],
   "source": [
    "TopKAccuracy(validation_ds, test_ds, vgg)"
   ]
  },
  {
   "cell_type": "code",
   "execution_count": 11,
   "metadata": {},
   "outputs": [
    {
     "name": "stdout",
     "output_type": "stream",
     "text": [
      "153/153 [==============================] - 20s 119ms/step\n",
      "115/115 [==============================] - 22s 188ms/step\n",
      "Top-1 (val): 0.16530501089324617\n",
      "Top-1 (test): 0.971252566735113\n",
      "Top-5 (val): 0.8259803921568627\n",
      "Top-5 (test): 1.0\n"
     ]
    }
   ],
   "source": [
    "TopKAccuracy(validation_ds, test_ds, resnet)"
   ]
  },
  {
   "cell_type": "code",
   "execution_count": 12,
   "metadata": {},
   "outputs": [],
   "source": [
    "def predict_disease(image_path, model):\n",
    "    img = cv2.imread(image_path)\n",
    "    resized = cv2.resize(img,(100,100))\n",
    "    img_array = tf.keras.utils.img_to_array(resized)\n",
    "    img_array = tf.expand_dims(img_array, 0) # Create a batch\n",
    "    predictions = model.predict(img_array)\n",
    "    score = tf.nn.softmax(predictions[0])\n",
    "    label_names = ['โรคใบจุดมะเขือเทศ (Bacterial Spot Disease)',\n",
    "                    'โรคใบไหม้ (Early Blight Disease)',\n",
    "                    'ไม่พบโรค (Healthy)',\n",
    "                    'โรคใบจุดวงกลม (Septoria Leaf Spot Disease)',\n",
    "                    'โรคใบจุด (Target Spot Disease)',\n",
    "                    'โรคใบหงิกเหลือง (Tomato Yellow Leaf Curl Virus Disease)']\n",
    "    label=label_names[np.argmax(score)]\n",
    "    return label"
   ]
  },
  {
   "cell_type": "code",
   "execution_count": 21,
   "metadata": {},
   "outputs": [
    {
     "name": "stdout",
     "output_type": "stream",
     "text": [
      "1/1 [==============================] - 0s 277ms/step\n"
     ]
    },
    {
     "data": {
      "text/plain": [
       "'โรคใบจุด (Target Spot Disease)'"
      ]
     },
     "execution_count": 21,
     "metadata": {},
     "output_type": "execute_result"
    }
   ],
   "source": [
    "predict_disease('./testset_web/heal.jpg', resnet)"
   ]
  },
  {
   "cell_type": "code",
   "execution_count": null,
   "metadata": {},
   "outputs": [],
   "source": []
  }
 ],
 "metadata": {
  "kernelspec": {
   "display_name": "Python 3.9.0 ('tf')",
   "language": "python",
   "name": "python3"
  },
  "language_info": {
   "codemirror_mode": {
    "name": "ipython",
    "version": 3
   },
   "file_extension": ".py",
   "mimetype": "text/x-python",
   "name": "python",
   "nbconvert_exporter": "python",
   "pygments_lexer": "ipython3",
   "version": "3.9.0 (default, Nov 15 2020, 08:30:55) [MSC v.1916 64 bit (AMD64)]"
  },
  "orig_nbformat": 4,
  "vscode": {
   "interpreter": {
    "hash": "f8e96bd7e1966f4a2672907f6ee805ddda5c053dc1c198bb172a92da052c6df0"
   }
  }
 },
 "nbformat": 4,
 "nbformat_minor": 2
}
